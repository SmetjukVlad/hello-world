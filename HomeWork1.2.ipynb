{
 "cells": [
  {
   "cell_type": "markdown",
   "metadata": {},
   "source": [
    "Задание 1. Написать программу поиска суммы минимального и максимального из трех введенных чисел"
   ]
  },
  {
   "cell_type": "code",
   "execution_count": 25,
   "metadata": {},
   "outputs": [
    {
     "name": "stdout",
     "output_type": "stream",
     "text": [
      "Enter the first number:85\n",
      "Enter the second number:2\n",
      "Enter the third number:65\n",
      "Minimum number: 2\n",
      "Maximum number: 85\n",
      "Want to repeat once again yes - y or no - any key f\n"
     ]
    }
   ],
   "source": [
    "repeat = 'y'\n",
    "\n",
    "while repeat =='y':\n",
    "    List = []\n",
    "    x = float(input('Enter the first number:'))\n",
    "    y = float(input('Enter the second number:'))\n",
    "    z = float(input('Enter the third number:'))\n",
    "    List.append(x)\n",
    "    List.append(y)\n",
    "    List.append(z)\n",
    "    List.sort()\n",
    "    if List[0] == List[1] and List[1] == List[2]:\n",
    "        print('All three numbers are the same', int(List[0]))\n",
    "    else:\n",
    "        print('Minimum number:', int(List[0]))\n",
    "        print('Maximum number:', int(List[2]))\n",
    "    repeat = input('Want to repeat once again yes - y or no - any key ')\n"
   ]
  },
  {
   "cell_type": "markdown",
   "metadata": {},
   "source": [
    "Задание 2. Для двух чисел Х,У определить, являются ли они корнями уравнения А*X^4+D*X^2+C=0"
   ]
  },
  {
   "cell_type": "code",
   "execution_count": 68,
   "metadata": {},
   "outputs": [
    {
     "name": "stdout",
     "output_type": "stream",
     "text": [
      "Введите коэффициенты для квадратного уравнения (ax^4 + dx^2 + c = 0):\n",
      "a = 1\n",
      "d = -5\n",
      "c = 4\n",
      "Введите предположительный корень №1: 5\n",
      "Введите предположительный корень №2: 9\n",
      "Числа не являются корнеми уравнения\n"
     ]
    }
   ],
   "source": [
    "print(\"Введите коэффициенты для квадратного уравнения (ax^4 + dx^2 + c = 0):\")\n",
    "a = float(input(\"a = \"))\n",
    "b = float(input(\"d = \"))\n",
    "c = float(input(\"c = \"))\n",
    "\n",
    "Number1 = float(input('Введите предположительный корень №1: '))\n",
    "Number2 = float(input('Введите предположительный корень №2: '))\n",
    " \n",
    "discr = b**2 - 4 * a * c;\n",
    "num = 0 # счетчик\n",
    "if discr > 0:\n",
    "    import math\n",
    "    x1 = (-b + math.sqrt(discr)) / (2 * a)\n",
    "    x2 = (-b - math.sqrt(discr)) / (2 * a)\n",
    "    List = []\n",
    "    #-------------------------\n",
    "    if x1 > 0:\n",
    "        X1 = math.sqrt(x1)\n",
    "        X2 = -1 * math.sqrt(x1)\n",
    "        #print('Корни уравнения ', X1 , 'и ',X2)\n",
    "        #List = []\n",
    "        List.append(X1)\n",
    "        List.append(X2)\n",
    "        #for q in List:\n",
    "         #       if Number1 == q:\n",
    "          #          print('Корень ', Number1, 'является корнем уравнения' )\n",
    "           #     if Number2 == q:\n",
    "            #        print('Корень ', Number2, 'является корнем уравнения' )        \n",
    "    if x2 > 0:\n",
    "        X3 = math.sqrt(x2)\n",
    "        X4 = -1 * math.sqrt(x2)\n",
    "        #print('Корни уравнения ', X1 , 'и ',X2)\n",
    "        #List = []\n",
    "        List.append(X3)\n",
    "        List.append(X4)\n",
    "    for q in List:\n",
    "            if Number1 == q:\n",
    "                print('Число ', Number1, 'является корнем уравнения' )\n",
    "                num += num\n",
    "            if Number2 == q:\n",
    "                print('Число ', Number2, 'является корнем уравнения' )\n",
    "                num += num\n",
    "    if (x1<=0) and (x2<=0):\n",
    "        print('Явных корней нет')\n",
    "    if num == 0:\n",
    "        print('Числа не являются корнями уравнения')\n",
    "    #-------------------------\n",
    "    \n",
    "elif discr == 0:    \n",
    "    x = -b / (2 * a)\n",
    "    if x > 0:\n",
    "        X1 = math.sqrt(x)\n",
    "        X2 = -1 * math.sqrt(x)\n",
    "        #print('Корни уравнения ', X1 , 'и ',X2)\n",
    "        List = []\n",
    "        List.append(X1)\n",
    "        List.append(X2)\n",
    "        for q in List:\n",
    "                if Number1 == q:\n",
    "                    print('Число ', Number1, 'является корнем уравнения' )\n",
    "                    num += num\n",
    "                if Number2 == q:\n",
    "                    print('Число ', Number2, 'является корнем уравнения' )\n",
    "                    num += num\n",
    "    if num > 0:\n",
    "        print('Числа не являются корнями уравнения')\n",
    "    \n",
    "else:\n",
    "    print(\"Корней нет\")"
   ]
  },
  {
   "cell_type": "markdown",
   "metadata": {},
   "source": [
    "Задание 5. Ввести три числа А,В,С. Удвоить каждое из них, если А>=В>=С, иначе поменять значения А и В."
   ]
  },
  {
   "cell_type": "code",
   "execution_count": 59,
   "metadata": {},
   "outputs": [
    {
     "name": "stdout",
     "output_type": "stream",
     "text": [
      "Enter Number A 1\n",
      "Enter Number B 5\n",
      "Enter Number C 3\n",
      "A= 5.0 B= 1.0 C= 3.0\n"
     ]
    }
   ],
   "source": [
    "a = float(input('Enter Number A '))\n",
    "b = float(input('Enter Number B '))\n",
    "c = float(input('Enter Number C '))\n",
    "if (a >= b) & (b >= c):\n",
    "    A = 2 * a\n",
    "    B = 2 * b\n",
    "    C = 2 * c\n",
    "    print('A =',int(A),'B =',int(B),'C =',int(C))\n",
    "else:\n",
    "    d = a\n",
    "    a = b\n",
    "    b = d\n",
    "    print('A=',int(a),'B=',int(b),'C=',int(c))"
   ]
  },
  {
   "cell_type": "code",
   "execution_count": null,
   "metadata": {
    "collapsed": true
   },
   "outputs": [],
   "source": []
  }
 ],
 "metadata": {
  "kernelspec": {
   "display_name": "Python 3",
   "language": "python",
   "name": "python3"
  },
  "language_info": {
   "codemirror_mode": {
    "name": "ipython",
    "version": 3
   },
   "file_extension": ".py",
   "mimetype": "text/x-python",
   "name": "python",
   "nbconvert_exporter": "python",
   "pygments_lexer": "ipython3",
   "version": "3.6.3"
  }
 },
 "nbformat": 4,
 "nbformat_minor": 2
}
